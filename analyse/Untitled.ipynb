{
 "cells": [
  {
   "cell_type": "code",
   "execution_count": 10,
   "id": "90c36987-ecd6-4d13-9b40-d1752bd1324a",
   "metadata": {},
   "outputs": [],
   "source": [
    "%matplotlib inline\n",
    "import torch\n",
    "import numpy as np\n",
    "from matplotlib import pyplot as plt"
   ]
  },
  {
   "cell_type": "code",
   "execution_count": 50,
   "id": "669d2f50-56d5-45e4-b115-5297028cc355",
   "metadata": {},
   "outputs": [],
   "source": [
    "\n",
    "vars = [\n",
    "'convs.{}.conv.weight',\n",
    "'convs.{}.conv.modulation.weight',\n",
    "'convs.{}.conv.modulation.bias',\n",
    "'convs.{}.noise.weight',\n",
    "'convs.{}.activate.bias',\n",
    "'noises.noise_{}',\n",
    "  ]\n",
    "\n",
    "ref_model  = torch.load('models/stylegan2-ffhq-config-f.pt', map_location=torch.device('cpu'))\n",
    "new_model = torch.load('models/arcane_jinx.pt',  map_location=torch.device('cpu'))"
   ]
  },
  {
   "cell_type": "code",
   "execution_count": 51,
   "id": "56127a8d-0c2a-43ca-b0f5-5ce596c26927",
   "metadata": {},
   "outputs": [
    {
     "data": {
      "text/plain": [
       "<matplotlib.legend.Legend at 0x7ffeb67805e0>"
      ]
     },
     "execution_count": 51,
     "metadata": {},
     "output_type": "execute_result"
    },
    {
     "data": {
      "image/png": "[encoded data removed]",
      "text/plain": [
       "<Figure size 1296x576 with 1 Axes>"
      ]
     },
     "metadata": {
      "needs_background": "light"
     },
     "output_type": "display_data"
    }
   ],
   "source": [
    "diff = np.zeros([16, len(vars)])\n",
    "for i in range(1,16):\n",
    "    for j, item in enumerate(vars):\n",
    "        handle = item.format(i)\n",
    "        diff[i,j] = np.linalg.norm(ref_model['g'][handle] - new_model['g'][handle])/ np.linalg.norm(ref_model['g'][handle])\n",
    "\n",
    "plt.figure(figsize=(18,8))\n",
    "X = np.array((range(len(vars))))\n",
    "for i in range(16):\n",
    "    plt.bar(X + (i-8)*0.06,diff[i,:], 0.06, label='{}'.format(i))\n",
    "\n",
    "plt.xticks(X, vars)\n",
    "plt.xlabel(\"Layers\")\n",
    "plt.ylabel(\"relative change in norm\")\n",
    "plt.title(\"Relative change in weights for style: Arcane Jinx\")\n",
    "plt.legend()"
   ]
  },
  {
   "cell_type": "code",
   "execution_count": 16,
   "id": "788de82a-b4b7-4e6f-8bfb-9f65f6e59055",
   "metadata": {},
   "outputs": [
    {
     "data": {
      "text/plain": [
       "tensor([[0., 0., 0., 0., 0., 0., 0., 0., 0., 0., 0., 0., 0., 0., 0., 0., 0., 0., 0., 0., 0., 0., 0., 0.,\n",
       "         0., 0., 0., 0., 0., 0., 0., 0., 0., 0., 0., 0., 0., 0., 0., 0., 0., 0., 0., 0., 0., 0., 0., 0.,\n",
       "         0., 0., 0., 0., 0., 0., 0., 0., 0., 0., 0., 0., 0., 0., 0., 0., 0., 0., 0., 0., 0., 0., 0., 0.,\n",
       "         0., 0., 0., 0., 0., 0., 0., 0., 0., 0., 0., 0., 0., 0., 0., 0., 0., 0., 0., 0., 0., 0., 0., 0.,\n",
       "         0., 0., 0., 0., 0., 0., 0., 0., 0., 0., 0., 0., 0., 0., 0., 0., 0., 0., 0., 0., 0., 0., 0., 0.,\n",
       "         0., 0., 0., 0., 0., 0., 0., 0., 0., 0., 0., 0., 0., 0., 0., 0., 0., 0., 0., 0., 0., 0., 0., 0.,\n",
       "         0., 0., 0., 0., 0., 0., 0., 0., 0., 0., 0., 0., 0., 0., 0., 0., 0., 0., 0., 0., 0., 0., 0., 0.,\n",
       "         0., 0., 0., 0., 0., 0., 0., 0., 0., 0., 0., 0., 0., 0., 0., 0., 0., 0., 0., 0., 0., 0., 0., 0.,\n",
       "         0., 0., 0., 0., 0., 0., 0., 0., 0., 0., 0., 0., 0., 0., 0., 0., 0., 0., 0., 0., 0., 0., 0., 0.,\n",
       "         0., 0., 0., 0., 0., 0., 0., 0., 0., 0., 0., 0., 0., 0., 0., 0., 0., 0., 0., 0., 0., 0., 0., 0.,\n",
       "         0., 0., 0., 0., 0., 0., 0., 0., 0., 0., 0., 0., 0., 0., 0., 0., 0., 0., 0., 0., 0., 0., 0., 0.,\n",
       "         0., 0., 0., 0., 0., 0., 0., 0., 0., 0., 0., 0., 0., 0., 0., 0., 0., 0., 0., 0., 0., 0., 0., 0.,\n",
       "         0., 0., 0., 0., 0., 0., 0., 0., 0., 0., 0., 0., 0., 0., 0., 0., 0., 0., 0., 0., 0., 0., 0., 0.,\n",
       "         0., 0., 0., 0., 0., 0., 0., 0., 0., 0., 0., 0., 0., 0., 0., 0., 0., 0., 0., 0., 0., 0., 0., 0.,\n",
       "         0., 0., 0., 0., 0., 0., 0., 0., 0., 0., 0., 0., 0., 0., 0., 0., 0., 0., 0., 0., 0., 0., 0., 0.,\n",
       "         0., 0., 0., 0., 0., 0., 0., 0., 0., 0., 0., 0., 0., 0., 0., 0., 0., 0., 0., 0., 0., 0., 0., 0.,\n",
       "         0., 0., 0., 0., 0., 0., 0., 0., 0., 0., 0., 0., 0., 0., 0., 0., 0., 0., 0., 0., 0., 0., 0., 0.,\n",
       "         0., 0., 0., 0., 0., 0., 0., 0., 0., 0., 0., 0., 0., 0., 0., 0., 0., 0., 0., 0., 0., 0., 0., 0.,\n",
       "         0., 0., 0., 0., 0., 0., 0., 0., 0., 0., 0., 0., 0., 0., 0., 0., 0., 0., 0., 0., 0., 0., 0., 0.,\n",
       "         0., 0., 0., 0., 0., 0., 0., 0., 0., 0., 0., 0., 0., 0., 0., 0., 0., 0., 0., 0., 0., 0., 0., 0.,\n",
       "         0., 0., 0., 0., 0., 0., 0., 0., 0., 0., 0., 0., 0., 0., 0., 0., 0., 0., 0., 0., 0., 0., 0., 0.,\n",
       "         0., 0., 0., 0., 0., 0., 0., 0.]])"
      ]
     },
     "execution_count": 16,
     "metadata": {},
     "output_type": "execute_result"
    }
   ],
   "source": [
    "new_model['g']['convs.2.conv.update']"
   ]
  },
  {
   "cell_type": "code",
   "execution_count": 17,
   "id": "3a8d2587-f382-46f6-bc10-6cbd1115e135",
   "metadata": {},
   "outputs": [
    {
     "data": {
      "text/plain": [
       "odict_keys(['style.1.weight', 'style.1.bias', 'style.2.weight', 'style.2.bias', 'style.3.weight', 'style.3.bias', 'style.4.weight', 'style.4.bias', 'style.5.weight', 'style.5.bias', 'style.6.weight', 'style.6.bias', 'style.7.weight', 'style.7.bias', 'style.8.weight', 'style.8.bias', 'input.input', 'conv1.conv.weight', 'conv1.conv.modulation.weight', 'conv1.conv.modulation.bias', 'conv1.noise.weight', 'conv1.activate.bias', 'to_rgb1.bias', 'to_rgb1.conv.weight', 'to_rgb1.conv.modulation.weight', 'to_rgb1.conv.modulation.bias', 'convs.0.conv.weight', 'convs.0.conv.blur.kernel', 'convs.0.conv.modulation.weight', 'convs.0.conv.modulation.bias', 'convs.0.noise.weight', 'convs.0.activate.bias', 'convs.1.conv.weight', 'convs.1.conv.modulation.weight', 'convs.1.conv.modulation.bias', 'convs.1.noise.weight', 'convs.1.activate.bias', 'convs.2.conv.weight', 'convs.2.conv.blur.kernel', 'convs.2.conv.modulation.weight', 'convs.2.conv.modulation.bias', 'convs.2.noise.weight', 'convs.2.activate.bias', 'convs.3.conv.weight', 'convs.3.conv.modulation.weight', 'convs.3.conv.modulation.bias', 'convs.3.noise.weight', 'convs.3.activate.bias', 'convs.4.conv.weight', 'convs.4.conv.blur.kernel', 'convs.4.conv.modulation.weight', 'convs.4.conv.modulation.bias', 'convs.4.noise.weight', 'convs.4.activate.bias', 'convs.5.conv.weight', 'convs.5.conv.modulation.weight', 'convs.5.conv.modulation.bias', 'convs.5.noise.weight', 'convs.5.activate.bias', 'convs.6.conv.weight', 'convs.6.conv.blur.kernel', 'convs.6.conv.modulation.weight', 'convs.6.conv.modulation.bias', 'convs.6.noise.weight', 'convs.6.activate.bias', 'convs.7.conv.weight', 'convs.7.conv.modulation.weight', 'convs.7.conv.modulation.bias', 'convs.7.noise.weight', 'convs.7.activate.bias', 'convs.8.conv.weight', 'convs.8.conv.blur.kernel', 'convs.8.conv.modulation.weight', 'convs.8.conv.modulation.bias', 'convs.8.noise.weight', 'convs.8.activate.bias', 'convs.9.conv.weight', 'convs.9.conv.modulation.weight', 'convs.9.conv.modulation.bias', 'convs.9.noise.weight', 'convs.9.activate.bias', 'convs.10.conv.weight', 'convs.10.conv.blur.kernel', 'convs.10.conv.modulation.weight', 'convs.10.conv.modulation.bias', 'convs.10.noise.weight', 'convs.10.activate.bias', 'convs.11.conv.weight', 'convs.11.conv.modulation.weight', 'convs.11.conv.modulation.bias', 'convs.11.noise.weight', 'convs.11.activate.bias', 'convs.12.conv.weight', 'convs.12.conv.blur.kernel', 'convs.12.conv.modulation.weight', 'convs.12.conv.modulation.bias', 'convs.12.noise.weight', 'convs.12.activate.bias', 'convs.13.conv.weight', 'convs.13.conv.modulation.weight', 'convs.13.conv.modulation.bias', 'convs.13.noise.weight', 'convs.13.activate.bias', 'convs.14.conv.weight', 'convs.14.conv.blur.kernel', 'convs.14.conv.modulation.weight', 'convs.14.conv.modulation.bias', 'convs.14.noise.weight', 'convs.14.activate.bias', 'convs.15.conv.weight', 'convs.15.conv.modulation.weight', 'convs.15.conv.modulation.bias', 'convs.15.noise.weight', 'convs.15.activate.bias', 'to_rgbs.0.bias', 'to_rgbs.0.upsample.kernel', 'to_rgbs.0.conv.weight', 'to_rgbs.0.conv.modulation.weight', 'to_rgbs.0.conv.modulation.bias', 'to_rgbs.1.bias', 'to_rgbs.1.upsample.kernel', 'to_rgbs.1.conv.weight', 'to_rgbs.1.conv.modulation.weight', 'to_rgbs.1.conv.modulation.bias', 'to_rgbs.2.bias', 'to_rgbs.2.upsample.kernel', 'to_rgbs.2.conv.weight', 'to_rgbs.2.conv.modulation.weight', 'to_rgbs.2.conv.modulation.bias', 'to_rgbs.3.bias', 'to_rgbs.3.upsample.kernel', 'to_rgbs.3.conv.weight', 'to_rgbs.3.conv.modulation.weight', 'to_rgbs.3.conv.modulation.bias', 'to_rgbs.4.bias', 'to_rgbs.4.upsample.kernel', 'to_rgbs.4.conv.weight', 'to_rgbs.4.conv.modulation.weight', 'to_rgbs.4.conv.modulation.bias', 'to_rgbs.5.bias', 'to_rgbs.5.upsample.kernel', 'to_rgbs.5.conv.weight', 'to_rgbs.5.conv.modulation.weight', 'to_rgbs.5.conv.modulation.bias', 'to_rgbs.6.bias', 'to_rgbs.6.upsample.kernel', 'to_rgbs.6.conv.weight', 'to_rgbs.6.conv.modulation.weight', 'to_rgbs.6.conv.modulation.bias', 'to_rgbs.7.bias', 'to_rgbs.7.upsample.kernel', 'to_rgbs.7.conv.weight', 'to_rgbs.7.conv.modulation.weight', 'to_rgbs.7.conv.modulation.bias', 'noises.noise_0', 'noises.noise_1', 'noises.noise_2', 'noises.noise_3', 'noises.noise_4', 'noises.noise_5', 'noises.noise_6', 'noises.noise_7', 'noises.noise_8', 'noises.noise_9', 'noises.noise_10', 'noises.noise_11', 'noises.noise_12', 'noises.noise_13', 'noises.noise_14', 'noises.noise_15', 'noises.noise_16'])"
      ]
     },
     "execution_count": 17,
     "metadata": {},
     "output_type": "execute_result"
    }
   ],
   "source": [
    "ref_model['g'].keys()"
   ]
  },
  {
   "cell_type": "code",
   "execution_count": null,
   "id": "c7c8ad7d-32b6-4893-8c1d-8ac1ee6039de",
   "metadata": {},
   "outputs": [],
   "source": []
  }
 ],
 "metadata": {
  "kernelspec": {
   "display_name": "Python [conda env:opence-v1.5.1]",
   "language": "python",
   "name": "conda-env-opence-v1.5.1-py"
  },
  "language_info": {
   "codemirror_mode": {
    "name": "ipython",
    "version": 3
   },
   "file_extension": ".py",
   "mimetype": "text/x-python",
   "name": "python",
   "nbconvert_exporter": "python",
   "pygments_lexer": "ipython3",
   "version": "3.9.7"
  }
 },
 "nbformat": 4,
 "nbformat_minor": 5
}
